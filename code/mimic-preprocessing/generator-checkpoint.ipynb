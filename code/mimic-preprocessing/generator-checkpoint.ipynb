{
 "cells": [
  {
   "cell_type": "code",
   "execution_count": 1,
   "id": "c80e189f-c34c-4988-bba8-55c97a5598b6",
   "metadata": {},
   "outputs": [],
   "source": [
    "import os\n",
    "import pandas as pd\n",
    "import shutil\n",
    "import datetime\n",
    "import csv\n",
    "from io import StringIO\n",
    "dataset = \"C:/Users/manco/Downloads/waveform\"\n",
    "destination = \"C:/Users/manco/Downloads/waveformCSV/\""
   ]
  },
  {
   "cell_type": "code",
   "execution_count": null,
   "id": "9091a0bf-69c0-4594-a36b-5cc3681e8106",
   "metadata": {},
   "outputs": [],
   "source": [
    "os.mkdir(destination)"
   ]
  },
  {
   "cell_type": "code",
   "execution_count": 20,
   "id": "32d795fe-51e4-4d44-bec2-c433c5562227",
   "metadata": {},
   "outputs": [],
   "source": [
    "#tempo iniziale (= circa TimeStamp prima misurazione)\n",
    "time = datetime.datetime(2100, 11, 10, 2, 18, 30)\n",
    "#viene fatta ingestion dei record con TimeStamp nell'intervallo [time, time1]\n",
    "sizeWindow = 1\n",
    "time_change = datetime.timedelta(seconds = sizeWindow)\n",
    "time1 = time + time_change"
   ]
  },
  {
   "cell_type": "code",
   "execution_count": 21,
   "id": "74d832a7-6c93-492d-88a5-b4c0c3c46e63",
   "metadata": {},
   "outputs": [
    {
     "name": "stdout",
     "output_type": "stream",
     "text": [
      "Window: [ 2100-11-10 02:18:30 ,  2100-11-10 02:18:31 ]\n",
      "ingestion:  2100-11-10 02:18:30\n",
      "Window: [ 2100-11-10 02:18:30 ,  2100-11-10 02:18:31 ]\n",
      "Window: [ 2100-11-10 02:18:31 ,  2100-11-10 02:18:32 ]\n",
      "ingestion:  2100-11-10 02:18:32\n",
      "Window: [ 2100-11-10 02:18:32 ,  2100-11-10 02:18:33 ]\n",
      "Window: [ 2100-11-10 02:18:33 ,  2100-11-10 02:18:34 ]\n",
      "ingestion:  2100-11-10 02:18:34\n",
      "Window: [ 2100-11-10 02:18:34 ,  2100-11-10 02:18:35 ]\n",
      "Window: [ 2100-11-10 02:18:35 ,  2100-11-10 02:18:36 ]\n",
      "ingestion:  2100-11-10 02:18:36\n",
      "Window: [ 2100-11-10 02:18:36 ,  2100-11-10 02:18:37 ]\n",
      "Window: [ 2100-11-10 02:18:37 ,  2100-11-10 02:18:38 ]\n",
      "ingestion:  2100-11-10 02:18:38\n",
      "Window: [ 2100-11-10 02:18:38 ,  2100-11-10 02:18:39 ]\n",
      "Window: [ 2100-11-10 02:18:39 ,  2100-11-10 02:18:40 ]\n",
      "ingestion:  2100-11-10 02:18:40\n",
      "Window: [ 2100-11-10 02:18:40 ,  2100-11-10 02:18:41 ]\n",
      "Window: [ 2100-11-10 02:18:41 ,  2100-11-10 02:18:42 ]\n",
      "ingestion:  2100-11-10 02:18:42\n",
      "Window: [ 2100-11-10 02:18:42 ,  2100-11-10 02:18:43 ]\n",
      "Window: [ 2100-11-10 02:18:43 ,  2100-11-10 02:18:44 ]\n",
      "ingestion:  2100-11-10 02:18:44\n",
      "Window: [ 2100-11-10 02:18:44 ,  2100-11-10 02:18:45 ]\n",
      "Window: [ 2100-11-10 02:18:45 ,  2100-11-10 02:18:46 ]\n",
      "ingestion:  2100-11-10 02:18:46\n",
      "Window: [ 2100-11-10 02:18:46 ,  2100-11-10 02:18:47 ]\n",
      "Window: [ 2100-11-10 02:18:47 ,  2100-11-10 02:18:48 ]\n",
      "ingestion:  2100-11-10 02:18:48\n",
      "Window: [ 2100-11-10 02:18:48 ,  2100-11-10 02:18:49 ]\n",
      "Window: [ 2100-11-10 02:18:49 ,  2100-11-10 02:18:50 ]\n",
      "ingestion:  2100-11-10 02:18:50\n",
      "Window: [ 2100-11-10 02:18:50 ,  2100-11-10 02:18:51 ]\n",
      "Window: [ 2100-11-10 02:18:51 ,  2100-11-10 02:18:52 ]\n",
      "ingestion:  2100-11-10 02:18:52\n",
      "Window: [ 2100-11-10 02:18:52 ,  2100-11-10 02:18:53 ]\n",
      "Window: [ 2100-11-10 02:18:53 ,  2100-11-10 02:18:54 ]\n",
      "ingestion:  2100-11-10 02:18:54\n",
      "Window: [ 2100-11-10 02:18:54 ,  2100-11-10 02:18:55 ]\n",
      "Window: [ 2100-11-10 02:18:55 ,  2100-11-10 02:18:56 ]\n",
      "ingestion:  2100-11-10 02:18:56\n",
      "Window: [ 2100-11-10 02:18:56 ,  2100-11-10 02:18:57 ]\n",
      "Window: [ 2100-11-10 02:18:57 ,  2100-11-10 02:18:58 ]\n",
      "ingestion:  2100-11-10 02:18:58\n",
      "Window: [ 2100-11-10 02:18:58 ,  2100-11-10 02:18:59 ]\n"
     ]
    }
   ],
   "source": [
    "#while(true)\n",
    "for i in range(15):\n",
    "    print(\"Window: [\", time, \", \",time1, \"]\")\n",
    "    for root, dirs, files in os.walk(dataset):\n",
    "        #si aprono tutti i file (non è un unico file ordinato, ma sono più file)\n",
    "        for file in files:\n",
    "            path_file = os.path.join(root,file)\n",
    "            with open(path_file, newline = '\\n') as f:\n",
    "                reader = csv.reader(f, delimiter=';')\n",
    "                line_count = 0\n",
    "                for line in reader:\n",
    "                    updated = 0\n",
    "                    if line_count == 0:\n",
    "                        #per ora si salta l'header\n",
    "                        header = next(reader)\n",
    "                    else:\n",
    "                        row = next(reader)\n",
    "                        #se TimeStamp > time1 non c'è bisogno di controllare altri record e si interrompe il ciclo\n",
    "                        if datetime.datetime.strptime(row[1], \"%Y-%m-%d %H:%M:%S\") > time1: break\n",
    "                        #legge la riga e controlla che TimeStamp sia in [time, time1]\n",
    "                        if datetime.datetime.strptime(row[1], \"%Y-%m-%d %H:%M:%S\") <= time1 and datetime.datetime.strptime(row[1], \"%Y-%m-%d %H:%M:%S\") >= time:\n",
    "                            #code_block per collegamento HDFS e ingestion\n",
    "                            #se faccio ingestion aggiorno la finestra per far si che il record non venga ingestionato di nuovo\n",
    "                            time = datetime.datetime.strptime(row[1], \"%Y-%m-%d %H:%M:%S\")\n",
    "                            time_change = datetime.timedelta(seconds = sizeWindow)\n",
    "                            time1 = time + time_change\n",
    "                            print(\"ingestion: \", row[1])\n",
    "                            print(\"Window: [\", time, \", \",time1, \"]\")\n",
    "                            updated = 1\n",
    "                    line_count += 1\n",
    "    #aggiorno il tempo\n",
    "    if updated == 0:\n",
    "        time_change = datetime.timedelta(seconds = sizeWindow)\n",
    "        time = time + time_change\n",
    "        time1 = time1 + time_change"
   ]
  },
  {
   "cell_type": "code",
   "execution_count": null,
   "id": "2da06320-a3d1-4e26-9558-15c4ef5722da",
   "metadata": {},
   "outputs": [],
   "source": []
  }
 ],
 "metadata": {
  "kernelspec": {
   "display_name": "Python 3 (ipykernel)",
   "language": "python",
   "name": "python3"
  },
  "language_info": {
   "codemirror_mode": {
    "name": "ipython",
    "version": 3
   },
   "file_extension": ".py",
   "mimetype": "text/x-python",
   "name": "python",
   "nbconvert_exporter": "python",
   "pygments_lexer": "ipython3",
   "version": "3.9.12"
  }
 },
 "nbformat": 4,
 "nbformat_minor": 5
}
